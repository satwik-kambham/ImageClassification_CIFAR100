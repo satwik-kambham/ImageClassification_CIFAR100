{
 "cells": [
  {
   "cell_type": "markdown",
   "metadata": {
    "editable": true,
    "slideshow": {
     "slide_type": ""
    },
    "tags": []
   },
   "source": [
    "# EDA on CIFAR-100 dataset"
   ]
  },
  {
   "cell_type": "markdown",
   "metadata": {},
   "source": [
    "Load dataset from huggingface"
   ]
  },
  {
   "cell_type": "code",
   "execution_count": 1,
   "metadata": {
    "editable": true,
    "slideshow": {
     "slide_type": ""
    },
    "tags": []
   },
   "outputs": [],
   "source": [
    "from datasets import load_dataset_builder, load_dataset"
   ]
  },
  {
   "cell_type": "code",
   "execution_count": 2,
   "metadata": {},
   "outputs": [
    {
     "data": {
      "text/plain": [
       "DatasetInfo(description='The CIFAR-100 dataset consists of 60000 32x32 colour images in 100 classes, with 600 images\\nper class. There are 500 training images and 100 testing images per class. There are 50000 training images and 10000 test images. The 100 classes are grouped into 20 superclasses.\\nThere are two labels per image - fine label (actual class) and coarse label (superclass).\\n', citation='@TECHREPORT{Krizhevsky09learningmultiple,\\n    author = {Alex Krizhevsky},\\n    title = {Learning multiple layers of features from tiny images},\\n    institution = {},\\n    year = {2009}\\n}\\n', homepage='https://www.cs.toronto.edu/~kriz/cifar.html', license='', features={'img': Image(decode=True, id=None), 'fine_label': ClassLabel(names=['apple', 'aquarium_fish', 'baby', 'bear', 'beaver', 'bed', 'bee', 'beetle', 'bicycle', 'bottle', 'bowl', 'boy', 'bridge', 'bus', 'butterfly', 'camel', 'can', 'castle', 'caterpillar', 'cattle', 'chair', 'chimpanzee', 'clock', 'cloud', 'cockroach', 'couch', 'cra', 'crocodile', 'cup', 'dinosaur', 'dolphin', 'elephant', 'flatfish', 'forest', 'fox', 'girl', 'hamster', 'house', 'kangaroo', 'keyboard', 'lamp', 'lawn_mower', 'leopard', 'lion', 'lizard', 'lobster', 'man', 'maple_tree', 'motorcycle', 'mountain', 'mouse', 'mushroom', 'oak_tree', 'orange', 'orchid', 'otter', 'palm_tree', 'pear', 'pickup_truck', 'pine_tree', 'plain', 'plate', 'poppy', 'porcupine', 'possum', 'rabbit', 'raccoon', 'ray', 'road', 'rocket', 'rose', 'sea', 'seal', 'shark', 'shrew', 'skunk', 'skyscraper', 'snail', 'snake', 'spider', 'squirrel', 'streetcar', 'sunflower', 'sweet_pepper', 'table', 'tank', 'telephone', 'television', 'tiger', 'tractor', 'train', 'trout', 'tulip', 'turtle', 'wardrobe', 'whale', 'willow_tree', 'wolf', 'woman', 'worm'], id=None), 'coarse_label': ClassLabel(names=['aquatic_mammals', 'fish', 'flowers', 'food_containers', 'fruit_and_vegetables', 'household_electrical_devices', 'household_furniture', 'insects', 'large_carnivores', 'large_man-made_outdoor_things', 'large_natural_outdoor_scenes', 'large_omnivores_and_herbivores', 'medium_mammals', 'non-insect_invertebrates', 'people', 'reptiles', 'small_mammals', 'trees', 'vehicles_1', 'vehicles_2'], id=None)}, post_processed=None, supervised_keys=None, task_templates=[ImageClassification(task='image-classification', image_column='img', label_column='fine_label')], builder_name='cifar100', dataset_name='cifar100', config_name='cifar100', version=1.0.0, splits={'train': SplitInfo(name='train', num_bytes=112751356, num_examples=50000, shard_lengths=None, dataset_name='cifar100'), 'test': SplitInfo(name='test', num_bytes=22605511, num_examples=10000, shard_lengths=None, dataset_name='cifar100')}, download_checksums={'https://www.cs.toronto.edu/~kriz/cifar-100-python.tar.gz': {'num_bytes': 169001437, 'checksum': None}}, download_size=169001437, post_processing_size=None, dataset_size=135356867, size_in_bytes=304358304)"
      ]
     },
     "execution_count": 2,
     "metadata": {},
     "output_type": "execute_result"
    }
   ],
   "source": [
    "ds_builder = load_dataset_builder(\"cifar100\")\n",
    "ds_builder.info"
   ]
  },
  {
   "cell_type": "code",
   "execution_count": 3,
   "metadata": {},
   "outputs": [],
   "source": [
    "features = ds_builder.info.features"
   ]
  },
  {
   "cell_type": "code",
   "execution_count": 4,
   "metadata": {},
   "outputs": [
    {
     "data": {
      "text/plain": [
       "DatasetDict({\n",
       "    train: Dataset({\n",
       "        features: ['img', 'fine_label', 'coarse_label'],\n",
       "        num_rows: 50000\n",
       "    })\n",
       "    test: Dataset({\n",
       "        features: ['img', 'fine_label', 'coarse_label'],\n",
       "        num_rows: 10000\n",
       "    })\n",
       "})"
      ]
     },
     "execution_count": 4,
     "metadata": {},
     "output_type": "execute_result"
    }
   ],
   "source": [
    "ds = load_dataset(\"cifar100\")\n",
    "ds"
   ]
  },
  {
   "cell_type": "code",
   "execution_count": 5,
   "metadata": {},
   "outputs": [],
   "source": [
    "ds.set_format(\"torch\")"
   ]
  },
  {
   "cell_type": "markdown",
   "metadata": {},
   "source": [
    "Visualizing Examples"
   ]
  },
  {
   "cell_type": "code",
   "execution_count": 6,
   "metadata": {},
   "outputs": [],
   "source": [
    "import matplotlib.pyplot as plt"
   ]
  },
  {
   "cell_type": "code",
   "execution_count": 7,
   "metadata": {},
   "outputs": [
    {
     "data": {
      "text/plain": [
       "('apple', 'fruit_and_vegetables')"
      ]
     },
     "execution_count": 7,
     "metadata": {},
     "output_type": "execute_result"
    },
    {
     "data": {
      "image/png": "[encoded data removed]",
      "text/plain": [
       "<Figure size 640x480 with 1 Axes>"
      ]
     },
     "metadata": {},
     "output_type": "display_data"
    }
   ],
   "source": [
    "example = ds[\"test\"][9]\n",
    "plt.imshow(example[\"img\"]),\n",
    "(\n",
    "    features[\"fine_label\"].names[example[\"fine_label\"].item()],\n",
    "    features[\"coarse_label\"].names[example[\"coarse_label\"].item()],\n",
    ")"
   ]
  },
  {
   "cell_type": "markdown",
   "metadata": {},
   "source": [
    "Class Distribution"
   ]
  },
  {
   "cell_type": "code",
   "execution_count": 9,
   "metadata": {},
   "outputs": [],
   "source": [
    "import numpy as np"
   ]
  },
  {
   "cell_type": "code",
   "execution_count": 10,
   "metadata": {},
   "outputs": [
    {
     "data": {
      "text/plain": [
       "(array([19, 29,  0, ...,  3,  7, 73]), array([11, 15,  4, ...,  8,  7,  1]))"
      ]
     },
     "execution_count": 10,
     "metadata": {},
     "output_type": "execute_result"
    }
   ],
   "source": [
    "fine_labels = []\n",
    "coarse_labels = []\n",
    "\n",
    "for i in ds[\"train\"]:\n",
    "    fine_labels.append(i[\"fine_label\"].item())\n",
    "    coarse_labels.append(i[\"coarse_label\"].item())\n",
    "\n",
    "fine_labels = np.array(fine_labels)\n",
    "coarse_labels = np.array(coarse_labels)\n",
    "fine_labels, coarse_labels\n",
    "fine_labels, coarse_labels"
   ]
  },
  {
   "cell_type": "code",
   "execution_count": 11,
   "metadata": {},
   "outputs": [
    {
     "data": {
      "text/plain": [
       "((array([ 0,  1,  2,  3,  4,  5,  6,  7,  8,  9, 10, 11, 12, 13, 14, 15, 16,\n",
       "         17, 18, 19, 20, 21, 22, 23, 24, 25, 26, 27, 28, 29, 30, 31, 32, 33,\n",
       "         34, 35, 36, 37, 38, 39, 40, 41, 42, 43, 44, 45, 46, 47, 48, 49, 50,\n",
       "         51, 52, 53, 54, 55, 56, 57, 58, 59, 60, 61, 62, 63, 64, 65, 66, 67,\n",
       "         68, 69, 70, 71, 72, 73, 74, 75, 76, 77, 78, 79, 80, 81, 82, 83, 84,\n",
       "         85, 86, 87, 88, 89, 90, 91, 92, 93, 94, 95, 96, 97, 98, 99]),\n",
       "  array([500, 500, 500, 500, 500, 500, 500, 500, 500, 500, 500, 500, 500,\n",
       "         500, 500, 500, 500, 500, 500, 500, 500, 500, 500, 500, 500, 500,\n",
       "         500, 500, 500, 500, 500, 500, 500, 500, 500, 500, 500, 500, 500,\n",
       "         500, 500, 500, 500, 500, 500, 500, 500, 500, 500, 500, 500, 500,\n",
       "         500, 500, 500, 500, 500, 500, 500, 500, 500, 500, 500, 500, 500,\n",
       "         500, 500, 500, 500, 500, 500, 500, 500, 500, 500, 500, 500, 500,\n",
       "         500, 500, 500, 500, 500, 500, 500, 500, 500, 500, 500, 500, 500,\n",
       "         500, 500, 500, 500, 500, 500, 500, 500, 500])),\n",
       " (array([ 0,  1,  2,  3,  4,  5,  6,  7,  8,  9, 10, 11, 12, 13, 14, 15, 16,\n",
       "         17, 18, 19]),\n",
       "  array([2500, 2500, 2500, 2500, 2500, 2500, 2500, 2500, 2500, 2500, 2500,\n",
       "         2500, 2500, 2500, 2500, 2500, 2500, 2500, 2500, 2500])))"
      ]
     },
     "execution_count": 11,
     "metadata": {},
     "output_type": "execute_result"
    }
   ],
   "source": [
    "np.unique(fine_labels, return_counts=True), np.unique(coarse_labels, return_counts=True)"
   ]
  },
  {
   "cell_type": "code",
   "execution_count": 12,
   "metadata": {},
   "outputs": [
    {
     "data": {
      "text/plain": [
       "(array([49, 33, 72, ..., 51, 42, 70]), array([10, 10,  0, ...,  4,  8,  2]))"
      ]
     },
     "execution_count": 12,
     "metadata": {},
     "output_type": "execute_result"
    }
   ],
   "source": [
    "fine_labels = []\n",
    "coarse_labels = []\n",
    "\n",
    "for i in ds[\"test\"]:\n",
    "    fine_labels.append(i[\"fine_label\"].item())\n",
    "    coarse_labels.append(i[\"coarse_label\"].item())\n",
    "\n",
    "fine_labels = np.array(fine_labels)\n",
    "coarse_labels = np.array(coarse_labels)\n",
    "fine_labels, coarse_labels"
   ]
  },
  {
   "cell_type": "code",
   "execution_count": 13,
   "metadata": {},
   "outputs": [
    {
     "data": {
      "text/plain": [
       "((array([ 0,  1,  2,  3,  4,  5,  6,  7,  8,  9, 10, 11, 12, 13, 14, 15, 16,\n",
       "         17, 18, 19, 20, 21, 22, 23, 24, 25, 26, 27, 28, 29, 30, 31, 32, 33,\n",
       "         34, 35, 36, 37, 38, 39, 40, 41, 42, 43, 44, 45, 46, 47, 48, 49, 50,\n",
       "         51, 52, 53, 54, 55, 56, 57, 58, 59, 60, 61, 62, 63, 64, 65, 66, 67,\n",
       "         68, 69, 70, 71, 72, 73, 74, 75, 76, 77, 78, 79, 80, 81, 82, 83, 84,\n",
       "         85, 86, 87, 88, 89, 90, 91, 92, 93, 94, 95, 96, 97, 98, 99]),\n",
       "  array([100, 100, 100, 100, 100, 100, 100, 100, 100, 100, 100, 100, 100,\n",
       "         100, 100, 100, 100, 100, 100, 100, 100, 100, 100, 100, 100, 100,\n",
       "         100, 100, 100, 100, 100, 100, 100, 100, 100, 100, 100, 100, 100,\n",
       "         100, 100, 100, 100, 100, 100, 100, 100, 100, 100, 100, 100, 100,\n",
       "         100, 100, 100, 100, 100, 100, 100, 100, 100, 100, 100, 100, 100,\n",
       "         100, 100, 100, 100, 100, 100, 100, 100, 100, 100, 100, 100, 100,\n",
       "         100, 100, 100, 100, 100, 100, 100, 100, 100, 100, 100, 100, 100,\n",
       "         100, 100, 100, 100, 100, 100, 100, 100, 100])),\n",
       " (array([ 0,  1,  2,  3,  4,  5,  6,  7,  8,  9, 10, 11, 12, 13, 14, 15, 16,\n",
       "         17, 18, 19]),\n",
       "  array([500, 500, 500, 500, 500, 500, 500, 500, 500, 500, 500, 500, 500,\n",
       "         500, 500, 500, 500, 500, 500, 500])))"
      ]
     },
     "execution_count": 13,
     "metadata": {},
     "output_type": "execute_result"
    }
   ],
   "source": [
    "np.unique(fine_labels, return_counts=True), np.unique(coarse_labels, return_counts=True)"
   ]
  },
  {
   "cell_type": "markdown",
   "metadata": {},
   "source": [
    "Image Statistics"
   ]
  },
  {
   "cell_type": "code",
   "execution_count": 14,
   "metadata": {},
   "outputs": [
    {
     "data": {
      "text/plain": [
       "(array([129.37731888, 124.10583864, 112.47758569]),\n",
       " array([51.24804743, 50.64248745, 51.61805643]))"
      ]
     },
     "execution_count": 14,
     "metadata": {},
     "output_type": "execute_result"
    }
   ],
   "source": [
    "mean = np.zeros(3)\n",
    "std = np.zeros(3)\n",
    "\n",
    "for i in ds[\"train\"]:\n",
    "    mean += i[\"img\"].numpy().mean(axis=(0, 1))\n",
    "    std += i[\"img\"].numpy().std(axis=(0, 1))\n",
    "\n",
    "for i in ds[\"test\"]:\n",
    "    mean += i[\"img\"].numpy().mean(axis=(0, 1))\n",
    "    std += i[\"img\"].numpy().std(axis=(0, 1))\n",
    "\n",
    "mean /= 60000\n",
    "std /= 60000\n",
    "\n",
    "mean, std"
   ]
  },
  {
   "cell_type": "markdown",
   "metadata": {},
   "source": [
    "Preprocessing the images"
   ]
  },
  {
   "cell_type": "code",
   "execution_count": 15,
   "metadata": {},
   "outputs": [],
   "source": [
    "from torchvision import transforms"
   ]
  },
  {
   "cell_type": "code",
   "execution_count": 18,
   "metadata": {},
   "outputs": [
    {
     "data": {
      "text/plain": [
       "Compose(\n",
       "    Normalize(mean=(129.37731888, 124.10583864, 112.47758569), std=(51.24804743, 50.64248745, 51.61805643))\n",
       ")"
      ]
     },
     "execution_count": 18,
     "metadata": {},
     "output_type": "execute_result"
    }
   ],
   "source": [
    "# Normalize\n",
    "img_tfms = transforms.Compose(\n",
    "    [\n",
    "        transforms.Normalize(\n",
    "            (129.37731888, 124.10583864, 112.47758569),\n",
    "            (51.24804743, 50.64248745, 51.61805643),\n",
    "        )\n",
    "    ]\n",
    ")\n",
    "img_tfms"
   ]
  },
  {
   "cell_type": "code",
   "execution_count": 27,
   "metadata": {},
   "outputs": [
    {
     "name": "stderr",
     "output_type": "stream",
     "text": [
      "Clipping input data to the valid range for imshow with RGB data ([0..1] for floats or [0..255] for integers).\n"
     ]
    },
    {
     "data": {
      "text/plain": [
       "<matplotlib.image.AxesImage at 0x7fe4e9194fa0>"
      ]
     },
     "execution_count": 27,
     "metadata": {},
     "output_type": "execute_result"
    },
    {
     "data": {
      "image/png": "[encoded data removed]",
      "text/plain": [
       "<Figure size 640x480 with 1 Axes>"
      ]
     },
     "metadata": {},
     "output_type": "display_data"
    }
   ],
   "source": [
    "example = ds[\"test\"][9]\n",
    "plt.imshow(img_tfms(example[\"img\"].permute(2, 1, 0).float()).permute(2, 1, 0))"
   ]
  },
  {
   "cell_type": "markdown",
   "metadata": {},
   "source": [
    "Image Augmentation"
   ]
  },
  {
   "cell_type": "code",
   "execution_count": 28,
   "metadata": {},
   "outputs": [],
   "source": [
    "import albumentations as A"
   ]
  },
  {
   "cell_type": "code",
   "execution_count": 40,
   "metadata": {},
   "outputs": [],
   "source": [
    "aug = A.Compose([A.RandomRotate90()])"
   ]
  },
  {
   "cell_type": "code",
   "execution_count": 48,
   "metadata": {},
   "outputs": [
    {
     "name": "stderr",
     "output_type": "stream",
     "text": [
      "Clipping input data to the valid range for imshow with RGB data ([0..1] for floats or [0..255] for integers).\n"
     ]
    },
    {
     "data": {
      "text/plain": [
       "<matplotlib.image.AxesImage at 0x7fe4d309b0a0>"
      ]
     },
     "execution_count": 48,
     "metadata": {},
     "output_type": "execute_result"
    },
    {
     "data": {
      "image/png": "[encoded data removed]",
      "text/plain": [
       "<Figure size 640x480 with 1 Axes>"
      ]
     },
     "metadata": {},
     "output_type": "display_data"
    }
   ],
   "source": [
    "example = ds[\"test\"][9]\n",
    "example = img_tfms(example[\"img\"].permute(2, 1, 0).float()).permute(2, 1, 0)\n",
    "plt.imshow(aug(image=example.numpy())[\"image\"])"
   ]
  }
 ],
 "metadata": {
  "kernelspec": {
   "display_name": "Python 3 (ipykernel)",
   "language": "python",
   "name": "python3"
  },
  "language_info": {
   "codemirror_mode": {
    "name": "ipython",
    "version": 3
   },
   "file_extension": ".py",
   "mimetype": "text/x-python",
   "name": "python",
   "nbconvert_exporter": "python",
   "pygments_lexer": "ipython3",
   "version": "3.10.12"
  }
 },
 "nbformat": 4,
 "nbformat_minor": 4
}
